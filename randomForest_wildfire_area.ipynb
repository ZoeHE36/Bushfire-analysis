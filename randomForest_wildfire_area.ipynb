{
 "cells": [
  {
   "cell_type": "code",
   "execution_count": 8,
   "metadata": {},
   "outputs": [],
   "source": [
    "import geopandas as gpd\n",
    "import pandas as pd\n",
    "from shapely.geometry import Point,MultiPoint,Polygon\n",
    "import contextily as ctx\n",
    "import matplotlib.pyplot as plt\n",
    "import seaborn as sns\n",
    "import numpy as np\n",
    "import math\n",
    "\n",
    "sns.set(font_scale=1.3)\n",
    "sns.set_style(\"white\")\n",
    "\n",
    "# random forest for feature importance on a regression problem\n",
    "from sklearn.datasets import make_regression\n",
    "from sklearn.ensemble import RandomForestRegressor\n",
    "from sklearn.preprocessing import StandardScaler\n",
    "from sklearn.model_selection import train_test_split\n",
    "import sklearn.utils as su\n",
    "import sklearn.metrics as sm\n",
    "#from matplotlib import pyplot"
   ]
  },
  {
   "cell_type": "code",
   "execution_count": 2,
   "metadata": {},
   "outputs": [
    {
     "name": "stdout",
     "output_type": "stream",
     "text": [
      "0.24.2\n"
     ]
    }
   ],
   "source": [
    "import sklearn\n",
    "print(sklearn.__version__)"
   ]
  },
  {
   "cell_type": "code",
   "execution_count": 3,
   "metadata": {
    "scrolled": false
   },
   "outputs": [
    {
     "name": "stdout",
     "output_type": "stream",
     "text": [
      "<class 'pandas.core.frame.DataFrame'>\n",
      "RangeIndex: 14334 entries, 0 to 14333\n",
      "Data columns (total 58 columns):\n",
      " #   Column               Non-Null Count  Dtype  \n",
      "---  ------               --------------  -----  \n",
      " 0   Fire_ID              14334 non-null  int64  \n",
      " 1   Date                 14334 non-null  int64  \n",
      " 2   AreaHa               14334 non-null  float64\n",
      " 3   PerimeterM           14334 non-null  float64\n",
      " 4   air_mean             14334 non-null  float64\n",
      " 5   air_min              14334 non-null  float64\n",
      " 6   air_max              14334 non-null  float64\n",
      " 7   pre_mean             14334 non-null  float64\n",
      " 8   pre_min              14334 non-null  float64\n",
      " 9   pre_max              14334 non-null  float64\n",
      " 10  soilw_mean           14334 non-null  float64\n",
      " 11  soilw_min            14334 non-null  float64\n",
      " 12  soilw_max            14334 non-null  float64\n",
      " 13  air_mean_spring      14334 non-null  float64\n",
      " 14  air_mean_summer      14334 non-null  float64\n",
      " 15  air_mean_autumn      14334 non-null  float64\n",
      " 16  air_mean_winter      14334 non-null  float64\n",
      " 17  air_min_spring       14334 non-null  float64\n",
      " 18  air_min_summer       14334 non-null  float64\n",
      " 19  air_min_autumn       14334 non-null  float64\n",
      " 20  air_min_winter       14334 non-null  float64\n",
      " 21  air_max_spring       14334 non-null  float64\n",
      " 22  air_max_summer       14334 non-null  float64\n",
      " 23  air_max_autumn       14334 non-null  float64\n",
      " 24  air_max_winter       14334 non-null  float64\n",
      " 25  pre_mean_spring      14334 non-null  float64\n",
      " 26  pre_mean_summer      14334 non-null  float64\n",
      " 27  pre_mean_autumn      14334 non-null  float64\n",
      " 28  pre_mean_winter      14334 non-null  float64\n",
      " 29  pre_min_spring       14334 non-null  float64\n",
      " 30  pre_min_summer       14334 non-null  float64\n",
      " 31  pre_min_autumn       14334 non-null  float64\n",
      " 32  pre_min_winter       14334 non-null  float64\n",
      " 33  pre_max_spring       14334 non-null  float64\n",
      " 34  pre_max_summer       14334 non-null  float64\n",
      " 35  pre_max_autumn       14334 non-null  float64\n",
      " 36  pre_max_winter       14334 non-null  float64\n",
      " 37  soilw_mean_spring    14334 non-null  float64\n",
      " 38  soilw_mean_summer    14334 non-null  float64\n",
      " 39  soilw_mean_autumn    14334 non-null  float64\n",
      " 40  soilw_mean_winter    14334 non-null  float64\n",
      " 41  soilw_min_spring     14334 non-null  float64\n",
      " 42  soilw_min_summer     14334 non-null  float64\n",
      " 43  soilw_min_autumn     14334 non-null  float64\n",
      " 44  soilw_min_winter     14334 non-null  float64\n",
      " 45  soilw_max_spring     14334 non-null  float64\n",
      " 46  soilw_max_summer     14334 non-null  float64\n",
      " 47  soilw_max_autumn     14334 non-null  float64\n",
      " 48  soilw_max_winter     14334 non-null  float64\n",
      " 49  wind_mean (m.s++-1)  14334 non-null  float64\n",
      " 50  wind_min (m.s++-1)   14334 non-null  float64\n",
      " 51  wind_max (m.s++-1)   14334 non-null  float64\n",
      " 52  Slope_mean           14334 non-null  float64\n",
      " 53  SA2_NAME16           14334 non-null  object \n",
      " 54  SA3_NAME16           14334 non-null  object \n",
      " 55  grid_code_mean       14334 non-null  float64\n",
      " 56  Classify             14334 non-null  int64  \n",
      " 57  geometry             14334 non-null  object \n",
      "dtypes: float64(52), int64(3), object(3)\n",
      "memory usage: 6.3+ MB\n"
     ]
    }
   ],
   "source": [
    "data_Wildfire_eachfire_all = pd.read_csv(\"wildfire_all_properties_data_withgeometry_dropNdvi_20210617.csv\")\n",
    "data_Wildfire_eachfire_all.info()"
   ]
  },
  {
   "cell_type": "code",
   "execution_count": 4,
   "metadata": {},
   "outputs": [
    {
     "name": "stdout",
     "output_type": "stream",
     "text": [
      "(14334, 58)\n",
      "(14174, 58)\n",
      "(13088, 58)\n"
     ]
    }
   ],
   "source": [
    "# data filter\n",
    "data_Wildfire_eachfire_all_2 = data_Wildfire_eachfire_all.copy()\n",
    "print(data_Wildfire_eachfire_all_2.shape)\n",
    "data_Wildfire_eachfire_all_2 = data_Wildfire_eachfire_all_2.drop(index=data_Wildfire_eachfire_all_2.AreaHa[data_Wildfire_eachfire_all_2.AreaHa>10000].index)# >10000\n",
    "print(data_Wildfire_eachfire_all_2.shape)\n",
    "data_Wildfire_eachfire_all_2 = data_Wildfire_eachfire_all_2.drop(index=data_Wildfire_eachfire_all_2.AreaHa[data_Wildfire_eachfire_all_2.AreaHa<0.1].index)# <1000\n",
    "print(data_Wildfire_eachfire_all_2.shape)"
   ]
  },
  {
   "cell_type": "code",
   "execution_count": 5,
   "metadata": {
    "scrolled": true
   },
   "outputs": [
    {
     "name": "stdout",
     "output_type": "stream",
     "text": [
      "<class 'pandas.core.frame.DataFrame'>\n",
      "Int64Index: 13088 entries, 0 to 14333\n",
      "Data columns (total 7 columns):\n",
      " #   Column               Non-Null Count  Dtype  \n",
      "---  ------               --------------  -----  \n",
      " 0   air_mean             13088 non-null  float64\n",
      " 1   pre_mean             13088 non-null  float64\n",
      " 2   soilw_mean           13088 non-null  float64\n",
      " 3   wind_mean (m.s++-1)  13088 non-null  float64\n",
      " 4   Slope_mean           13088 non-null  float64\n",
      " 5   grid_code_mean       13088 non-null  float64\n",
      " 6   Classify             13088 non-null  int64  \n",
      "dtypes: float64(6), int64(1)\n",
      "memory usage: 818.0 KB\n"
     ]
    }
   ],
   "source": [
    "data_Wildfire_eachfire_y = pd.DataFrame(data_Wildfire_eachfire_all_2,columns=[\"AreaHa\"])\n",
    "data_Wildfire_eachfire_X = data_Wildfire_eachfire_all_2.copy()\n",
    "data_Wildfire_eachfire_X = pd.DataFrame(data_Wildfire_eachfire_all_2,columns=[\"air_mean\",\"pre_mean\", \\\n",
    "                                                                            \"soilw_mean\",\"wind_mean (m.s++-1)\",\"Slope_mean\",\"grid_code_mean\",\"Classify\"])\n",
    "data_Wildfire_eachfire_X.info()"
   ]
  },
  {
   "cell_type": "code",
   "execution_count": 15,
   "metadata": {},
   "outputs": [
    {
     "name": "stdout",
     "output_type": "stream",
     "text": [
      "3.8604585933830395\n"
     ]
    },
    {
     "data": {
      "text/html": [
       "<div>\n",
       "<style scoped>\n",
       "    .dataframe tbody tr th:only-of-type {\n",
       "        vertical-align: middle;\n",
       "    }\n",
       "\n",
       "    .dataframe tbody tr th {\n",
       "        vertical-align: top;\n",
       "    }\n",
       "\n",
       "    .dataframe thead th {\n",
       "        text-align: right;\n",
       "    }\n",
       "</style>\n",
       "<table border=\"1\" class=\"dataframe\">\n",
       "  <thead>\n",
       "    <tr style=\"text-align: right;\">\n",
       "      <th></th>\n",
       "      <th>feature</th>\n",
       "      <th>VIF</th>\n",
       "    </tr>\n",
       "  </thead>\n",
       "  <tbody>\n",
       "    <tr>\n",
       "      <th>0</th>\n",
       "      <td>air_mean</td>\n",
       "      <td>1.313646</td>\n",
       "    </tr>\n",
       "    <tr>\n",
       "      <th>1</th>\n",
       "      <td>pre_mean</td>\n",
       "      <td>3.689676</td>\n",
       "    </tr>\n",
       "    <tr>\n",
       "      <th>2</th>\n",
       "      <td>soilw_mean</td>\n",
       "      <td>3.860459</td>\n",
       "    </tr>\n",
       "    <tr>\n",
       "      <th>3</th>\n",
       "      <td>wind_mean (m/s)</td>\n",
       "      <td>1.331712</td>\n",
       "    </tr>\n",
       "    <tr>\n",
       "      <th>4</th>\n",
       "      <td>Slope_mean</td>\n",
       "      <td>1.615526</td>\n",
       "    </tr>\n",
       "    <tr>\n",
       "      <th>5</th>\n",
       "      <td>NDVI_mean</td>\n",
       "      <td>1.678392</td>\n",
       "    </tr>\n",
       "    <tr>\n",
       "      <th>6</th>\n",
       "      <td>Vegetation</td>\n",
       "      <td>1.039132</td>\n",
       "    </tr>\n",
       "  </tbody>\n",
       "</table>\n",
       "</div>"
      ],
      "text/plain": [
       "           feature       VIF\n",
       "0         air_mean  1.313646\n",
       "1         pre_mean  3.689676\n",
       "2       soilw_mean  3.860459\n",
       "3  wind_mean (m/s)  1.331712\n",
       "4       Slope_mean  1.615526\n",
       "5        NDVI_mean  1.678392\n",
       "6       Vegetation  1.039132"
      ]
     },
     "execution_count": 15,
     "metadata": {},
     "output_type": "execute_result"
    }
   ],
   "source": [
    "# calculate VIF for each variance\n",
    "def checkVIF_new(df):\n",
    "    from statsmodels.stats.outliers_influence import variance_inflation_factor\n",
    "    #df[\"Const\"] = 1\n",
    "    name = df.columns\n",
    "    x = np.matrix(df)\n",
    "    VIF_list = [variance_inflation_factor(x,i) for i in range(x.shape[1])]\n",
    "    VIF = pd.DataFrame({'feature':name,\"VIF\":VIF_list})\n",
    "    VIF = VIF.drop(index=(VIF[\"feature\"].loc[(VIF[\"feature\"] == \"c\")].index))\n",
    "    max_VIF = VIF[\"VIF\"].max()\n",
    "    print(max_VIF)\n",
    "    return VIF\n",
    "X_rep = data_Wildfire_eachfire_X.copy()\n",
    "X_rep[\"c\"] = 1 # 常数项\n",
    "X_rep.head()\n",
    "VIF = checkVIF_new(X_rep)\n",
    "# save VIF data\n",
    "VIF_2 = VIF.copy()\n",
    "VIF_2.loc[3:3,(\"feature\")]=[\"wind_mean (m/s)\"]\n",
    "VIF_2.loc[5:5,(\"feature\")]=[\"NDVI_mean\"]\n",
    "VIF_2.loc[6:6,(\"feature\")]=[\"Vegetation\"]\n",
    "VIF_2.to_csv(\"./VIF_wildfire_area.csv\",header=True,index=False)\n",
    "VIF_2"
   ]
  },
  {
   "cell_type": "code",
   "execution_count": 9,
   "metadata": {},
   "outputs": [
    {
     "data": {
      "image/png": "[encoded data removed]",
      "text/plain": [
       "<Figure size 1152x648 with 1 Axes>"
      ]
     },
     "metadata": {},
     "output_type": "display_data"
    }
   ],
   "source": [
    "# Plot figure about VIF\n",
    "plt.figure(figsize=(16,9))\n",
    "plt.bar(VIF_2[\"feature\"],VIF_2[\"VIF\"])\n",
    "plt.xlabel(\"Feature\",fontsize=24,fontweight=\"bold\")\n",
    "plt.ylabel(\"VIF\",fontsize=24,fontweight=\"bold\")\n",
    "plt.xticks(fontsize=14,fontweight='bold')\n",
    "plt.yticks(fontsize=24,fontweight='bold')\n",
    "plt.title(\"Variance inflation factor (VIF)\",fontsize=24,fontweight=\"bold\")\n",
    "#plt.savefig(\"VIF_wildfire_area.tiff\")"
   ]
  },
  {
   "cell_type": "code",
   "execution_count": 10,
   "metadata": {},
   "outputs": [
    {
     "name": "stdout",
     "output_type": "stream",
     "text": [
      "<class 'pandas.core.frame.DataFrame'>\n",
      "Int64Index: 13088 entries, 0 to 14333\n",
      "Data columns (total 7 columns):\n",
      " #   Column           Non-Null Count  Dtype  \n",
      "---  ------           --------------  -----  \n",
      " 0   air_mean         13088 non-null  float64\n",
      " 1   pre_mean         13088 non-null  float64\n",
      " 2   soilw_mean       13088 non-null  float64\n",
      " 3   wind_mean (m/s)  13088 non-null  float64\n",
      " 4   Slope_mean       13088 non-null  float64\n",
      " 5   NDVI_mean        13088 non-null  float64\n",
      " 6   Vegetation       13088 non-null  int64  \n",
      "dtypes: float64(6), int64(1)\n",
      "memory usage: 818.0 KB\n"
     ]
    },
    {
     "data": {
      "text/plain": [
       "'air_mean'"
      ]
     },
     "execution_count": 10,
     "metadata": {},
     "output_type": "execute_result"
    }
   ],
   "source": [
    "# get the virance after VIF judgements\n",
    "data_Wildfire_eachfire_y_2 = pd.DataFrame(data_Wildfire_eachfire_all_2,columns=[\"AreaHa\"])\n",
    "data_Wildfire_eachfire_X_2 = pd.DataFrame(data_Wildfire_eachfire_all_2,columns=[\"air_mean\",\"pre_mean\",\"soilw_mean\",\"wind_mean (m.s++-1)\",\"Slope_mean\",\"grid_code_mean\",\"Classify\"])\n",
    "data_Wildfire_eachfire_X_2 = data_Wildfire_eachfire_X_2.rename(columns={\"wind_mean (m.s++-1)\":\"wind_mean (m/s)\",\"grid_code_mean\":\"NDVI_mean\",\"Classify\":\"Vegetation\"})\n",
    "data_Wildfire_eachfire_X_2.info()\n",
    "data_Wildfire_eachfire_X_2.columns[0]"
   ]
  },
  {
   "cell_type": "code",
   "execution_count": 12,
   "metadata": {},
   "outputs": [
    {
     "name": "stderr",
     "output_type": "stream",
     "text": [
      "D:\\ProgramFile\\Anaconda3\\lib\\site-packages\\ipykernel_launcher.py:4: DataConversionWarning: A column-vector y was passed when a 1d array was expected. Please change the shape of y to (n_samples,), for example using ravel().\n",
      "  after removing the cwd from sys.path.\n"
     ]
    },
    {
     "name": "stdout",
     "output_type": "stream",
     "text": [
      "RandomForest---score: 0.05199\n",
      "RandomForest---oob_score: 0.02937\n",
      "Feature: air_mean, \t Score: 0.22512\n",
      "Feature: pre_mean, \t Score: 0.10576\n",
      "Feature: soilw_mean, \t Score: 0.14187\n",
      "Feature: wind_mean (m/s), \t Score: 0.31453\n",
      "Feature: Slope_mean, \t Score: 0.11092\n",
      "Feature: NDVI_mean, \t Score: 0.07254\n",
      "Feature: Vegetation, \t Score: 0.02925\n"
     ]
    }
   ],
   "source": [
    "# define the model\n",
    "model = RandomForestRegressor(max_depth=10,n_estimators=400,random_state=1,min_samples_split=5,max_leaf_nodes=60,min_weight_fraction_leaf=0.02,bootstrap=True,oob_score=True)\n",
    "# fit the model\n",
    "model.fit(data_Wildfire_eachfire_X_2, data_Wildfire_eachfire_y_2)\n",
    "# regression score\n",
    "score = model.score(data_Wildfire_eachfire_X_2, data_Wildfire_eachfire_y_2)\n",
    "print(\"RandomForest---score: %.5f\" % (score))\n",
    "oob_score = model.oob_score_\n",
    "print(\"RandomForest---oob_score: %.5f\" % (oob_score))\n",
    "# get importance\n",
    "importance = model.feature_importances_\n",
    "# get columns name\n",
    "list_name = list(data_Wildfire_eachfire_X_2)\n",
    "# summarize feature importance\n",
    "for i,v in enumerate(importance):\n",
    "    print('Feature: %s, \\t Score: %.5f' % (list_name[i],v))\n"
   ]
  },
  {
   "cell_type": "code",
   "execution_count": 14,
   "metadata": {},
   "outputs": [
    {
     "data": {
      "image/png": "[encoded data removed]",
      "text/plain": [
       "<Figure size 1152x648 with 1 Axes>"
      ]
     },
     "metadata": {},
     "output_type": "display_data"
    }
   ],
   "source": [
    "# 绘制importance条形图\n",
    "plt.figure(figsize=(16,9))\n",
    "plt.bar(list_name,importance)\n",
    "plt.xlabel(\"Feature\",fontsize=24,fontweight=\"bold\")\n",
    "plt.ylabel(\"Feature importance\",fontsize=24,fontweight=\"bold\")\n",
    "plt.xticks(fontsize=14,fontweight='bold')\n",
    "plt.yticks(fontsize=24,fontweight='bold')\n",
    "plt.title(\"Feature importance estimated via Random Forest Regression\",fontsize=24,fontweight=\"bold\")\n",
    "#plt.savefig(\"FeatureImportance_wildfire_area.tiff\")\n",
    "plt.show()"
   ]
  },
  {
   "cell_type": "code",
   "execution_count": 16,
   "metadata": {},
   "outputs": [
    {
     "data": {
      "text/html": [
       "<div>\n",
       "<style scoped>\n",
       "    .dataframe tbody tr th:only-of-type {\n",
       "        vertical-align: middle;\n",
       "    }\n",
       "\n",
       "    .dataframe tbody tr th {\n",
       "        vertical-align: top;\n",
       "    }\n",
       "\n",
       "    .dataframe thead th {\n",
       "        text-align: right;\n",
       "    }\n",
       "</style>\n",
       "<table border=\"1\" class=\"dataframe\">\n",
       "  <thead>\n",
       "    <tr style=\"text-align: right;\">\n",
       "      <th></th>\n",
       "      <th>Feature</th>\n",
       "      <th>Feature importance</th>\n",
       "    </tr>\n",
       "  </thead>\n",
       "  <tbody>\n",
       "    <tr>\n",
       "      <th>0</th>\n",
       "      <td>air_mean</td>\n",
       "      <td>0.225125</td>\n",
       "    </tr>\n",
       "    <tr>\n",
       "      <th>1</th>\n",
       "      <td>pre_mean</td>\n",
       "      <td>0.105764</td>\n",
       "    </tr>\n",
       "    <tr>\n",
       "      <th>2</th>\n",
       "      <td>soilw_mean</td>\n",
       "      <td>0.141865</td>\n",
       "    </tr>\n",
       "    <tr>\n",
       "      <th>3</th>\n",
       "      <td>wind_mean (m/s)</td>\n",
       "      <td>0.314531</td>\n",
       "    </tr>\n",
       "    <tr>\n",
       "      <th>4</th>\n",
       "      <td>Slope_mean</td>\n",
       "      <td>0.110918</td>\n",
       "    </tr>\n",
       "    <tr>\n",
       "      <th>5</th>\n",
       "      <td>NDVI_mean</td>\n",
       "      <td>0.072544</td>\n",
       "    </tr>\n",
       "    <tr>\n",
       "      <th>6</th>\n",
       "      <td>Vegetation</td>\n",
       "      <td>0.029253</td>\n",
       "    </tr>\n",
       "  </tbody>\n",
       "</table>\n",
       "</div>"
      ],
      "text/plain": [
       "           Feature  Feature importance\n",
       "0         air_mean            0.225125\n",
       "1         pre_mean            0.105764\n",
       "2       soilw_mean            0.141865\n",
       "3  wind_mean (m/s)            0.314531\n",
       "4       Slope_mean            0.110918\n",
       "5        NDVI_mean            0.072544\n",
       "6       Vegetation            0.029253"
      ]
     },
     "execution_count": 16,
     "metadata": {},
     "output_type": "execute_result"
    }
   ],
   "source": [
    "df_FeatureImportance = pd.DataFrame({\"Feature\":np.array(list_name), \n",
    "                                       \"Feature importance\":np.array(importance)})\n",
    "df_FeatureImportance.to_csv(\"./FeatureImportance_wildfire_area.csv\",header=True,index=False)\n",
    "df_FeatureImportance"
   ]
  }
 ],
 "metadata": {
  "kernelspec": {
   "display_name": "Python 3",
   "language": "python",
   "name": "python3"
  },
  "language_info": {
   "codemirror_mode": {
    "name": "ipython",
    "version": 3
   },
   "file_extension": ".py",
   "mimetype": "text/x-python",
   "name": "python",
   "nbconvert_exporter": "python",
   "pygments_lexer": "ipython3",
   "version": "3.7.0"
  }
 },
 "nbformat": 4,
 "nbformat_minor": 2
}
